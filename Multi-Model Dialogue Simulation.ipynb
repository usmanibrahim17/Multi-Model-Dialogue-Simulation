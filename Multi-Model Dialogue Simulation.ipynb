import os
import openai
import anthropic
import google.generativeai as genai
from dotenv import load_dotenv

# Load environment variables from .env file
load_dotenv()

# Get API keys from environment
openai_api_key = os.getenv("OPENAI_API_KEY")
anthropic_api_key = os.getenv("ANTHROPIC_API_KEY")
gemini_api_key = os.getenv("GEMINI_API_KEY")

# --- Model and System Prompts ---
gpt_model = "gpt-4o-mini"
claude_model = "claude-3-haiku-20240307"
gemini_model = "gemini-1.5-flash"

gpt_system = "You are a chatbot who is very rude and argumentative. You disagree with everything and challenge the other person in a snarky way."
claude_system = "You are a very polite and courteous chatbot. You try to agree with everything, find common ground, and keep the conversation pleasant."
gemini_system = "You are a chatbot that is perpetually sad and pessimistic. You see the negative side of everything and express your sorrow in your responses."

# --- Initialize Clients ---
try:
    openai_client = openai.OpenAI(api_key=openai_api_key)
    anthropic_client = anthropic.Anthropic(api_key=anthropic_api_key)
    genai.configure(api_key=gemini_api_key)
    gemini_client = genai.GenerativeModel(gemini_model)
except Exception as e:
    print(f"Error initializing API clients: {e}")
    print("Please make sure you have set up your .env file correctly with all the required API keys.")
    exit()

# --- Conversation History ---
conversation = []

def call_gpt(history):
    messages = [{"role": "system", "content": gpt_system}]
    for author, text in history:
        role = "user" if author != "GPT" else "assistant"
        messages.append({"role": role, "content": text})

    completion = openai_client.chat.completions.create(
        model=gpt_model,
        messages=messages
    )
    return completion.choices[0].message.content

def call_claude(history):
    messages = []
    for author, text in history:
        role = "user" if author != "Claude" else "assistant"
        messages.append({"role": role, "content": text})

    message = anthropic_client.messages.create(
        model=claude_model,
        system=claude_system,
        messages=messages,
        max_tokens=500
    )
    return message.content[0].text

def call_gemini(history):
    # Gemini's chat history is a sequence of turns.
    # We'll build the history in the format it expects.
    gemini_history = []
    for author, text in history:
        # The 'model' role is for responses from the Gemini model itself.
        # The 'user' role is for all other messages that the model should treat as prompts.
        role = "model" if author == "Gemini" else "user"

        # The Gemini API expects a history that alternates between 'user' and 'model'.
        # If the new message has the same role as the last one, we'll merge them.
        if gemini_history and gemini_history[-1]['role'] == role:
            gemini_history[-1]['parts'][0]['text'] += f"\n\n({author}): {text}"
        else:
            # Otherwise, we add a new entry to the history.
            # We prepend the author's name to the text to make it clear who is speaking.
            gemini_history.append({
                "role": role,
                "parts": [{"text": f"({author}): {text}"}]
            })
    
    # The very last message in our generic history is the one Gemini should respond to.
    # So we take all but the last message for the history, and the last one as the new prompt.
    last_message_text = f"({history[-1][0]}): {history[-1][1]}"
    
    # We need to make sure the history we pass to start_chat is valid.
    # The history should not contain the last message we are about to send.
    chat_session = gemini_client.start_chat(history=gemini_history[:-1])
    response = chat_session.send_message(last_message_text)
    return response.text


def main():
    print("--- Starting AI Conversation ---")
    
    # Start the conversation
    last_message = "Hello, everyone. Let's start our conversation."
    current_speaker = "GPT"
    conversation.append(("System", last_message))
    print(f"System: {last_message}\n")

    for _ in range(9):
        if current_speaker == "GPT":
            response = call_gpt(conversation)
            conversation.append(("GPT", response))
            print(f"GPT (Rude):\n{response}\n")
            current_speaker = "Claude"
        
        elif current_speaker == "Claude":
            response = call_claude(conversation)
            conversation.append(("Claude", response))
            print(f"Claude (Polite):\n{response}\n")
            current_speaker = "Gemini"

        elif current_speaker == "Gemini":
            response = call_gemini(conversation)
            conversation.append(("Gemini", response))
            print(f"Gemini (Sad):\n{response}\n")
            current_speaker = "GPT"


if __name__ == "__main__":
    main()
